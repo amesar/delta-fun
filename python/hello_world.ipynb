{
 "cells": [
  {
   "cell_type": "code",
   "execution_count": null,
   "metadata": {},
   "outputs": [],
   "source": [
    "from pyspark.sql import SparkSession\n",
    "spark = SparkSession.builder.appName(\"HelloWorld\").getOrCreate()\n",
    "\n",
    "dataPath = \"delta-table\"\n",
    "print(\"dataPath: \"+dataPath)\n",
    "data = spark.range(0, 5)\n",
    "data.write.format(\"delta\").save(dataPath)\n",
    "df = spark.read.format(\"delta\").load(dataPath)\n",
    "print(\"Data:\\n\")\n",
    "df.show()\n",
    "print(\"Schema:\\n\")\n",
    "df.printSchema()"
   ]
  }
 ],
 "metadata": {
  "kernelspec": {
   "display_name": "Python 2",
   "language": "python",
   "name": "python2"
  },
  "language_info": {
   "codemirror_mode": {
    "name": "ipython",
    "version": 2
   },
   "file_extension": ".py",
   "mimetype": "text/x-python",
   "name": "python",
   "nbconvert_exporter": "python",
   "pygments_lexer": "ipython2",
   "version": "2.7.14"
  }
 },
 "nbformat": 4,
 "nbformat_minor": 2
}
